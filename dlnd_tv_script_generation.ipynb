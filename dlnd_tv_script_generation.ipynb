{
 "cells": [
  {
   "cell_type": "markdown",
   "metadata": {},
   "source": [
    "# TV Script Generation\n",
    "\n",
    "In this project, you'll generate your own [Seinfeld](https://en.wikipedia.org/wiki/Seinfeld) TV scripts using RNNs.  You'll be using part of the [Seinfeld dataset](https://www.kaggle.com/thec03u5/seinfeld-chronicles#scripts.csv) of scripts from 9 seasons.  The Neural Network you'll build will generate a new ,\"fake\" TV script, based on patterns it recognizes in this training data.\n",
    "\n",
    "## Get the Data\n",
    "\n",
    "The data is already provided for you in `./data/Seinfeld_Scripts.txt` and you're encouraged to open that file and look at the text. \n",
    ">* As a first step, we'll load in this data and look at some samples. \n",
    "* Then, you'll be tasked with defining and training an RNN to generate a new script!"
   ]
  },
  {
   "cell_type": "code",
   "execution_count": 1,
   "metadata": {},
   "outputs": [],
   "source": [
    "\"\"\"\n",
    "DON'T MODIFY ANYTHING IN THIS CELL\n",
    "\"\"\"\n",
    "# load in data\n",
    "import helper\n",
    "data_dir = './data/Seinfeld_Scripts.txt'\n",
    "text = helper.load_data(data_dir)"
   ]
  },
  {
   "cell_type": "markdown",
   "metadata": {},
   "source": [
    "## Explore the Data\n",
    "Play around with `view_line_range` to view different parts of the data. This will give you a sense of the data you'll be working with. You can see, for example, that it is all lowercase text, and each new line of dialogue is separated by a newline character `\\n`."
   ]
  },
  {
   "cell_type": "code",
   "execution_count": 2,
   "metadata": {},
   "outputs": [
    {
     "name": "stdout",
     "output_type": "stream",
     "text": [
      "Dataset Stats\n",
      "Roughly the number of unique words: 46367\n",
      "Number of lines: 109233\n",
      "Average number of words in each line: 5.544240293684143\n",
      "\n",
      "The lines 0 to 10:\n",
      "jerry: do you know what this is all about? do you know, why were here? to be out, this is out...and out is one of the single most enjoyable experiences of life. people...did you ever hear people talking about we should go out? this is what theyre talking about...this whole thing, were all out now, no one is home. not one person here is home, were all out! there are people trying to find us, they dont know where we are. (on an imaginary phone) did you ring?, i cant find him. where did he go? he didnt tell me where he was going. he must have gone out. you wanna go out you get ready, you pick out the clothes, right? you take the shower, you get all ready, get the cash, get your friends, the car, the spot, the reservation...then youre standing around, what do you do? you go we gotta be getting back. once youre out, you wanna get back! you wanna go to sleep, you wanna get up, you wanna go out again tomorrow, right? where ever you are in life, its my feeling, youve gotta go. \n",
      "\n",
      "jerry: (pointing at georges shirt) see, to me, that button is in the worst possible spot. the second button literally makes or breaks the shirt, look at it. its too high! its in no-mans-land. you look like you live with your mother. \n",
      "\n",
      "george: are you through? \n",
      "\n",
      "jerry: you do of course try on, when you buy? \n",
      "\n",
      "george: yes, it was purple, i liked it, i dont actually recall considering the buttons. \n",
      "\n"
     ]
    }
   ],
   "source": [
    "view_line_range = (0, 10)\n",
    "\n",
    "\"\"\"\n",
    "DON'T MODIFY ANYTHING IN THIS CELL THAT IS BELOW THIS LINE\n",
    "\"\"\"\n",
    "import numpy as np\n",
    "\n",
    "print('Dataset Stats')\n",
    "print('Roughly the number of unique words: {}'.format(len({word: None for word in text.split()})))\n",
    "\n",
    "lines = text.split('\\n')\n",
    "print('Number of lines: {}'.format(len(lines)))\n",
    "word_count_line = [len(line.split()) for line in lines]\n",
    "print('Average number of words in each line: {}'.format(np.average(word_count_line)))\n",
    "\n",
    "print()\n",
    "print('The lines {} to {}:'.format(*view_line_range))\n",
    "print('\\n'.join(text.split('\\n')[view_line_range[0]:view_line_range[1]]))"
   ]
  },
  {
   "cell_type": "markdown",
   "metadata": {},
   "source": [
    "---\n",
    "## Implement Pre-processing Functions\n",
    "The first thing to do to any dataset is pre-processing.  Implement the following pre-processing functions below:\n",
    "- Lookup Table\n",
    "- Tokenize Punctuation\n",
    "\n",
    "### Lookup Table\n",
    "To create a word embedding, you first need to transform the words to ids.  In this function, create two dictionaries:\n",
    "- Dictionary to go from the words to an id, we'll call `vocab_to_int`\n",
    "- Dictionary to go from the id to word, we'll call `int_to_vocab`\n",
    "\n",
    "Return these dictionaries in the following **tuple** `(vocab_to_int, int_to_vocab)`"
   ]
  },
  {
   "cell_type": "code",
   "execution_count": null,
   "metadata": {},
   "outputs": [],
   "source": []
  },
  {
   "cell_type": "code",
   "execution_count": 12,
   "metadata": {},
   "outputs": [
    {
     "name": "stdout",
     "output_type": "stream",
     "text": [
      "Tests Passed\n"
     ]
    }
   ],
   "source": [
    "import re\n",
    "from collections import Counter\n",
    "'''\n",
    "    Create lookup tables for vocabulary\n",
    "    :param words: Input list of words\n",
    "    :return: A tuple of dicts.  The first dict....\n",
    "    \"\"\"\n",
    "    word_counts = Counter(words)\n",
    "    # sorting the words from most to least frequent in text occurrence\n",
    "    sorted_vocab = sorted(word_counts, key=word_counts.get, reverse=True)\n",
    "    # create int_to_vocab dictionaries\n",
    "    int_to_vocab = {ii: word for ii, word in enumerate(sorted_vocab)}\n",
    "    vocab_to_int = {word: ii for ii, word in int_to_vocab.items()}\n",
    "\n",
    "    return vocab_to_int, int_to_vocab\n",
    "'''\n",
    "\n",
    "import problem_unittests as tests\n",
    "\n",
    "def create_lookup_tables(text):\n",
    "    \"\"\"\n",
    "    Create lookup tables for vocabulary\n",
    "    :param text: The text of tv scripts split into words\n",
    "    :return: A tuple of dicts (vocab_to_int, int_to_vocab)\n",
    "    \"\"\"\n",
    "    # TODO: Implement Function\n",
    "    word_counts = Counter(text)\n",
    "    # sorting the words from most to least frequent in text occurrence\n",
    "    sorted_vocab = sorted(word_counts, key=word_counts.get, reverse=True)\n",
    "    # create int_to_vocab dictionaries\n",
    "    int_to_vocab = {ii: word for ii, word in enumerate(sorted_vocab)}\n",
    "    vocab_to_int = {word: ii for ii, word in int_to_vocab.items()}\n",
    "\n",
    "    # return tuple\n",
    "    return vocab_to_int, int_to_vocab\n",
    "\n",
    "\n",
    "\"\"\"\n",
    "DON'T MODIFY ANYTHING IN THIS CELL THAT IS BELOW THIS LINE\n",
    "\"\"\"\n",
    "tests.test_create_lookup_tables(create_lookup_tables)"
   ]
  },
  {
   "cell_type": "markdown",
   "metadata": {},
   "source": [
    "### Tokenize Punctuation\n",
    "We'll be splitting the script into a word array using spaces as delimiters.  However, punctuations like periods and exclamation marks can create multiple ids for the same word. For example, \"bye\" and \"bye!\" would generate two different word ids.\n",
    "\n",
    "Implement the function `token_lookup` to return a dict that will be used to tokenize symbols like \"!\" into \"||Exclamation_Mark||\".  Create a dictionary for the following symbols where the symbol is the key and value is the token:\n",
    "- Period ( **.** )\n",
    "- Comma ( **,** )\n",
    "- Quotation Mark ( **\"** )\n",
    "- Semicolon ( **;** )\n",
    "- Exclamation mark ( **!** )\n",
    "- Question mark ( **?** )\n",
    "- Left Parentheses ( **(** )\n",
    "- Right Parentheses ( **)** )\n",
    "- Dash ( **-** )\n",
    "- Return ( **\\n** )\n",
    "\n",
    "This dictionary will be used to tokenize the symbols and add the delimiter (space) around it.  This separates each symbols as its own word, making it easier for the neural network to predict the next word. Make sure you don't use a value that could be confused as a word; for example, instead of using the value \"dash\", try using something like \"||dash||\"."
   ]
  },
  {
   "cell_type": "code",
   "execution_count": null,
   "metadata": {},
   "outputs": [],
   "source": []
  },
  {
   "cell_type": "code",
   "execution_count": 13,
   "metadata": {},
   "outputs": [
    {
     "name": "stdout",
     "output_type": "stream",
     "text": [
      "Tests Passed\n"
     ]
    }
   ],
   "source": [
    "def token_lookup():\n",
    "    \"\"\"\n",
    "    Generate a dict to turn punctuation into a token.\n",
    "    :return: Tokenized dictionary where the key is the punctuation and the value is the token\n",
    "    \"\"\"\n",
    "    # TODO: Implement Function\n",
    "    mydict = {'.': '<PERIOD>',\n",
    "                ',': '<COMMA>',\n",
    "                '\"': '<QUOTATION_MARK>',\n",
    "                ';': '<SEMICOLON>',\n",
    "                '!': '<EXCLAMATION_MARK>',\n",
    "                '?': '<QUESTION_MARK>',\n",
    "                '(': '<LEFT_PAREN>',\n",
    "                ')': '<RIGHT_PAREN>',\n",
    "                '-': '<DASH>',\n",
    "                '\\n': '<RETURN>' \n",
    "    }\n",
    "    \n",
    "    return mydict\n",
    "\n",
    "\"\"\"\n",
    "DON'T MODIFY ANYTHING IN THIS CELL THAT IS BELOW THIS LINE\n",
    "\"\"\"\n",
    "tests.test_tokenize(token_lookup)"
   ]
  },
  {
   "cell_type": "markdown",
   "metadata": {},
   "source": [
    "## Pre-process all the data and save it\n",
    "\n",
    "Running the code cell below will pre-process all the data and save it to file. You're encouraged to lok at the code for `preprocess_and_save_data` in the `helpers.py` file to see what it's doing in detail, but you do not need to change this code."
   ]
  },
  {
   "cell_type": "code",
   "execution_count": 5,
   "metadata": {},
   "outputs": [],
   "source": [
    "\"\"\"\n",
    "DON'T MODIFY ANYTHING IN THIS CELL\n",
    "\"\"\"\n",
    "# pre-process training data\n",
    "helper.preprocess_and_save_data(data_dir, token_lookup, create_lookup_tables)"
   ]
  },
  {
   "cell_type": "markdown",
   "metadata": {},
   "source": [
    "# Check Point\n",
    "This is your first checkpoint. If you ever decide to come back to this notebook or have to restart the notebook, you can start from here. The preprocessed data has been saved to disk."
   ]
  },
  {
   "cell_type": "code",
   "execution_count": 6,
   "metadata": {},
   "outputs": [],
   "source": [
    "\"\"\"\n",
    "DON'T MODIFY ANYTHING IN THIS CELL\n",
    "\"\"\"\n",
    "import helper\n",
    "import problem_unittests as tests\n",
    "\n",
    "int_text, vocab_to_int, int_to_vocab, token_dict = helper.load_preprocess()"
   ]
  },
  {
   "cell_type": "markdown",
   "metadata": {},
   "source": [
    "## Build the Neural Network\n",
    "In this section, you'll build the components necessary to build an RNN by implementing the RNN Module and forward and backpropagation functions.\n",
    "\n",
    "### Check Access to GPU"
   ]
  },
  {
   "cell_type": "code",
   "execution_count": 7,
   "metadata": {},
   "outputs": [
    {
     "name": "stdout",
     "output_type": "stream",
     "text": [
      "No GPU found. Please use a GPU to train your neural network.\n"
     ]
    }
   ],
   "source": [
    "\"\"\"\n",
    "DON'T MODIFY ANYTHING IN THIS CELL\n",
    "\"\"\"\n",
    "import torch\n",
    "\n",
    "# Check for a GPU\n",
    "train_on_gpu = torch.cuda.is_available()\n",
    "if not train_on_gpu:\n",
    "    print('No GPU found. Please use a GPU to train your neural network.')"
   ]
  },
  {
   "cell_type": "markdown",
   "metadata": {},
   "source": [
    "## Input\n",
    "Let's start with the preprocessed input data. We'll use [TensorDataset](http://pytorch.org/docs/master/data.html#torch.utils.data.TensorDataset) to provide a known format to our dataset; in combination with [DataLoader](http://pytorch.org/docs/master/data.html#torch.utils.data.DataLoader), it will handle batching, shuffling, and other dataset iteration functions.\n",
    "\n",
    "You can create data with TensorDataset by passing in feature and target tensors. Then create a DataLoader as usual.\n",
    "```\n",
    "data = TensorDataset(feature_tensors, target_tensors)\n",
    "data_loader = torch.utils.data.DataLoader(data, \n",
    "                                          batch_size=batch_size)\n",
    "```\n",
    "\n",
    "### Batching\n",
    "Implement the `batch_data` function to batch `words` data into chunks of size `batch_size` using the `TensorDataset` and `DataLoader` classes.\n",
    "\n",
    ">You can batch words using the DataLoader, but it will be up to you to create `feature_tensors` and `target_tensors` of the correct size and content for a given `sequence_length`.\n",
    "\n",
    "For example, say we have these as input:\n",
    "```\n",
    "words = [1, 2, 3, 4, 5, 6, 7]\n",
    "sequence_length = 4\n",
    "```\n",
    "\n",
    "Your first `feature_tensor` should contain the values:\n",
    "```\n",
    "[1, 2, 3, 4]\n",
    "```\n",
    "And the corresponding `target_tensor` should just be the next \"word\"/tokenized word value:\n",
    "```\n",
    "5\n",
    "```\n",
    "This should continue with the second `feature_tensor`, `target_tensor` being:\n",
    "```\n",
    "[2, 3, 4, 5]  # features\n",
    "6             # target\n",
    "```"
   ]
  },
  {
   "cell_type": "code",
   "execution_count": null,
   "metadata": {
    "collapsed": true
   },
   "outputs": [],
   "source": []
  },
  {
   "cell_type": "code",
   "execution_count": 14,
   "metadata": {},
   "outputs": [],
   "source": [
    "from torch.utils.data import TensorDataset, DataLoader\n",
    "\n",
    "\n",
    "def batch_data(words, sequence_length, batch_size):\n",
    "    \"\"\"\n",
    "    Batch the neural network data using DataLoader\n",
    "    :param words: The word ids of the TV scripts\n",
    "    :param sequence_length: The sequence length of each batch\n",
    "    :param batch_size: The size of each batch; the number of sequences in a batch\n",
    "    :return: DataLoader with batched data\n",
    "    \"\"\"\n",
    "    # TODO: Implement function\n",
    "    batch_size_total = batch_size * sequence_length\n",
    "    # total number of batches we can make\n",
    "    n_batches = len(words)//batch_size_total\n",
    "    # Keep only enough characters to make full batches\n",
    "    words = words[:n_batches * batch_size_total]\n",
    "    # Reshape into batch_size rows\n",
    "    words = words.reshape((batch_size, -1))\n",
    "\n",
    "    # iterate through the array, one sequence at a time\n",
    "    for n in range(0, words.shape[1], sequence_length):\n",
    "        # The features\n",
    "        x = words[:, n:n+sequence_length]\n",
    "        # The targets, shifted by one\n",
    "        y = np.zeros(words.shape[0])\n",
    "        y1 = words[:, 0]\n",
    "        try:\n",
    "            y[:-1], y[-1] = y1[1:], y1[0]\n",
    "        except IndexError:\n",
    "            y[:-1], y[-1] = x[1:], y1[0]\n",
    "    # return a dataloader\n",
    "#    x = torch.from_numpy(x)\n",
    "#    y = torch.from_numpy(y)\n",
    "#    return x, y\n",
    "    return torch.from_numpy(x), torch.from_numpy(y)\n",
    "\n",
    "# there is no test for this function, but you are encouraged to create\n",
    "# print statements and tests of your own\n",
    "\n"
   ]
  },
  {
   "cell_type": "markdown",
   "metadata": {},
   "source": [
    "### Test your dataloader \n",
    "\n",
    "You'll have to modify this code to test a batching function, but it should look fairly similar.\n",
    "\n",
    "Below, we're generating some test text data and defining a dataloader using the function you defined, above. Then, we are getting some sample batch of inputs `sample_x` and targets `sample_y` from our dataloader.\n",
    "\n",
    "Your code should return something like the following (likely in a different order, if you shuffled your data):\n",
    "\n",
    "```\n",
    "torch.Size([10, 5])\n",
    "tensor([[ 28,  29,  30,  31,  32],\n",
    "        [ 21,  22,  23,  24,  25],\n",
    "        [ 17,  18,  19,  20,  21],\n",
    "        [ 34,  35,  36,  37,  38],\n",
    "        [ 11,  12,  13,  14,  15],\n",
    "        [ 23,  24,  25,  26,  27],\n",
    "        [  6,   7,   8,   9,  10],\n",
    "        [ 38,  39,  40,  41,  42],\n",
    "        [ 25,  26,  27,  28,  29],\n",
    "        [  7,   8,   9,  10,  11]])\n",
    "\n",
    "torch.Size([10])\n",
    "tensor([ 33,  26,  22,  39,  16,  28,  11,  43,  30,  12])\n",
    "```\n",
    "\n",
    "### Sizes\n",
    "Your sample_x should be of size `(batch_size, sequence_length)` or (10, 5) in this case and sample_y should just have one dimension: batch_size (10). \n",
    "\n",
    "### Values\n",
    "\n",
    "You should also notice that the targets, sample_y, are the *next* value in the ordered test_text data. So, for an input sequence `[ 28,  29,  30,  31,  32]` that ends with the value `32`, the corresponding output should be `33`."
   ]
  },
  {
   "cell_type": "code",
   "execution_count": null,
   "metadata": {},
   "outputs": [],
   "source": []
  },
  {
   "cell_type": "code",
   "execution_count": null,
   "metadata": {},
   "outputs": [],
   "source": []
  },
  {
   "cell_type": "code",
   "execution_count": 15,
   "metadata": {},
   "outputs": [
    {
     "name": "stdout",
     "output_type": "stream",
     "text": [
      "torch.Size([10, 5])\n",
      "tensor([[  0,   1,   2,   3,   4],\n",
      "        [  5,   6,   7,   8,   9],\n",
      "        [ 10,  11,  12,  13,  14],\n",
      "        [ 15,  16,  17,  18,  19],\n",
      "        [ 20,  21,  22,  23,  24],\n",
      "        [ 25,  26,  27,  28,  29],\n",
      "        [ 30,  31,  32,  33,  34],\n",
      "        [ 35,  36,  37,  38,  39],\n",
      "        [ 40,  41,  42,  43,  44],\n",
      "        [ 45,  46,  47,  48,  49]])\n",
      "\n",
      "torch.Size([10])\n",
      "tensor([  5.,  10.,  15.,  20.,  25.,  30.,  35.,  40.,  45.,   0.], dtype=torch.float64)\n"
     ]
    }
   ],
   "source": [
    "#my try\n",
    "# test dataloader\n",
    "\n",
    "test_text = np.array(range(50))\n",
    "t_loader = batch_data(test_text, sequence_length=5, batch_size=10)\n",
    "\n",
    "\n",
    "data_iter = iter(t_loader)\n",
    "sample_x, sample_y = data_iter#.next()\n",
    "\n",
    "print(sample_x.shape)\n",
    "print(sample_x)\n",
    "print()\n",
    "print(sample_y.shape)\n",
    "print(sample_y)"
   ]
  },
  {
   "cell_type": "code",
   "execution_count": null,
   "metadata": {},
   "outputs": [],
   "source": []
  },
  {
   "cell_type": "code",
   "execution_count": 21,
   "metadata": {},
   "outputs": [
    {
     "data": {
      "text/plain": [
       "1"
      ]
     },
     "execution_count": 21,
     "metadata": {},
     "output_type": "execute_result"
    }
   ],
   "source": []
  },
  {
   "cell_type": "markdown",
   "metadata": {},
   "source": [
    "---\n",
    "## Build the Neural Network\n",
    "Implement an RNN using PyTorch's [Module class](http://pytorch.org/docs/master/nn.html#torch.nn.Module). You may choose to use a GRU or an LSTM. To complete the RNN, you'll have to implement the following functions for the class:\n",
    " - `__init__` - The initialize function. \n",
    " - `init_hidden` - The initialization function for an LSTM/GRU hidden state\n",
    " - `forward` - Forward propagation function.\n",
    " \n",
    "The initialize function should create the layers of the neural network and save them to the class. The forward propagation function will use these layers to run forward propagation and generate an output and a hidden state.\n",
    "\n",
    "**The output of this model should be the *last* batch of word scores** after a complete sequence has been processed. That is, for each input sequence of words, we only want to output the word scores for a single, most likely, next word.\n",
    "\n",
    "### Hints\n",
    "\n",
    "1. Make sure to stack the outputs of the lstm to pass to your fully-connected layer, you can do this with `lstm_output = lstm_output.contiguous().view(-1, self.hidden_dim)`\n",
    "2. You can get the last batch of word scores by shaping the output of the final, fully-connected layer like so:\n",
    "\n",
    "```\n",
    "# reshape into (batch_size, seq_length, output_size)\n",
    "output = output.view(batch_size, -1, self.output_size)\n",
    "# get last batch\n",
    "out = output[:, -1]\n",
    "```"
   ]
  },
  {
   "cell_type": "code",
   "execution_count": 11,
   "metadata": {},
   "outputs": [
    {
     "ename": "AssertionError",
     "evalue": "Wrong output size. Expected type (50, 20). Got type torch.Size([150, 10])\n\nUnit Test Function Parameters\nInput Size: 20\nOutput Size: 20\nHidden Dim: 10\nN Layers: 2\nBatch Size: 50\nSequence Length: 3\nInput: tensor([[ 13,  10,  17],\n        [ 10,   3,   8],\n        [  9,  10,  13],\n        [  3,  12,  15],\n        [ 17,   5,  18],\n        [  9,  19,   6],\n        [ 19,  13,   2],\n        [ 11,   7,   7],\n        [ 10,   2,   3],\n        [  6,   0,  17],\n        [  8,   7,   7],\n        [ 15,   5,  10],\n        [ 17,   6,  18],\n        [  9,  13,  14],\n        [ 10,  15,  18],\n        [ 12,   7,  17],\n        [  2,   7,  11],\n        [ 14,  13,   3],\n        [  8,   8,  10],\n        [ 19,  13,   8],\n        [ 11,  12,  12],\n        [  0,   9,  16],\n        [ 11,   0,  12],\n        [  9,   7,   2],\n        [  6,   5,  17],\n        [  9,  18,   2],\n        [ 17,   2,  13],\n        [  7,   0,  12],\n        [ 17,   9,   9],\n        [  8,  13,   3],\n        [ 15,  11,  17],\n        [  1,  14,   5],\n        [ 11,   4,  13],\n        [ 16,   3,   9],\n        [ 10,   0,   4],\n        [ 13,  19,  10],\n        [ 15,   9,  17],\n        [ 17,   6,   8],\n        [  4,   1,  12],\n        [ 18,   6,  19],\n        [  0,  18,   6],\n        [  3,   4,   2],\n        [  5,   2,   9],\n        [ 13,   3,  15],\n        [ 13,   4,  12],\n        [ 11,  12,  18],\n        [  1,  14,  10],\n        [  2,   2,   9],\n        [  9,   5,   8],\n        [  8,   0,   2]])",
     "output_type": "error",
     "traceback": [
      "\u001b[0;31m---------------------------------------------------------------------------\u001b[0m",
      "\u001b[0;31mAssertionError\u001b[0m                            Traceback (most recent call last)",
      "\u001b[0;32m<ipython-input-11-41be9361b0ef>\u001b[0m in \u001b[0;36m<module>\u001b[0;34m()\u001b[0m\n\u001b[1;32m    103\u001b[0m \u001b[0mDON\u001b[0m\u001b[0;31m'\u001b[0m\u001b[0mT\u001b[0m \u001b[0mMODIFY\u001b[0m \u001b[0mANYTHING\u001b[0m \u001b[0mIN\u001b[0m \u001b[0mTHIS\u001b[0m \u001b[0mCELL\u001b[0m \u001b[0mTHAT\u001b[0m \u001b[0mIS\u001b[0m \u001b[0mBELOW\u001b[0m \u001b[0mTHIS\u001b[0m \u001b[0mLINE\u001b[0m\u001b[0;34m\u001b[0m\u001b[0m\n\u001b[1;32m    104\u001b[0m \"\"\"\n\u001b[0;32m--> 105\u001b[0;31m \u001b[0mtests\u001b[0m\u001b[0;34m.\u001b[0m\u001b[0mtest_rnn\u001b[0m\u001b[0;34m(\u001b[0m\u001b[0mRNN\u001b[0m\u001b[0;34m,\u001b[0m \u001b[0mtrain_on_gpu\u001b[0m\u001b[0;34m)\u001b[0m\u001b[0;34m\u001b[0m\u001b[0m\n\u001b[0m",
      "\u001b[0;32m/home/workspace/problem_unittests.py\u001b[0m in \u001b[0;36mtest_rnn\u001b[0;34m(RNN, train_on_gpu)\u001b[0m\n\u001b[1;32m    186\u001b[0m     \u001b[0massert_condition\u001b[0m \u001b[0;34m=\u001b[0m \u001b[0moutput\u001b[0m\u001b[0;34m.\u001b[0m\u001b[0msize\u001b[0m\u001b[0;34m(\u001b[0m\u001b[0;34m)\u001b[0m \u001b[0;34m==\u001b[0m \u001b[0mcorrect_output_size\u001b[0m\u001b[0;34m\u001b[0m\u001b[0m\n\u001b[1;32m    187\u001b[0m     \u001b[0massert_message\u001b[0m \u001b[0;34m=\u001b[0m \u001b[0;34m'Wrong output size. Expected type {}. Got type {}'\u001b[0m\u001b[0;34m.\u001b[0m\u001b[0mformat\u001b[0m\u001b[0;34m(\u001b[0m\u001b[0mcorrect_output_size\u001b[0m\u001b[0;34m,\u001b[0m \u001b[0moutput\u001b[0m\u001b[0;34m.\u001b[0m\u001b[0msize\u001b[0m\u001b[0;34m(\u001b[0m\u001b[0;34m)\u001b[0m\u001b[0;34m)\u001b[0m\u001b[0;34m\u001b[0m\u001b[0m\n\u001b[0;32m--> 188\u001b[0;31m     \u001b[0massert_test\u001b[0m\u001b[0;34m.\u001b[0m\u001b[0mtest\u001b[0m\u001b[0;34m(\u001b[0m\u001b[0massert_condition\u001b[0m\u001b[0;34m,\u001b[0m \u001b[0massert_message\u001b[0m\u001b[0;34m)\u001b[0m\u001b[0;34m\u001b[0m\u001b[0m\n\u001b[0m\u001b[1;32m    189\u001b[0m \u001b[0;34m\u001b[0m\u001b[0m\n\u001b[1;32m    190\u001b[0m     \u001b[0m_print_success_message\u001b[0m\u001b[0;34m(\u001b[0m\u001b[0;34m)\u001b[0m\u001b[0;34m\u001b[0m\u001b[0m\n",
      "\u001b[0;32m/home/workspace/problem_unittests.py\u001b[0m in \u001b[0;36mtest\u001b[0;34m(self, assert_condition, assert_message)\u001b[0m\n\u001b[1;32m     26\u001b[0m \u001b[0;34m\u001b[0m\u001b[0m\n\u001b[1;32m     27\u001b[0m     \u001b[0;32mdef\u001b[0m \u001b[0mtest\u001b[0m\u001b[0;34m(\u001b[0m\u001b[0mself\u001b[0m\u001b[0;34m,\u001b[0m \u001b[0massert_condition\u001b[0m\u001b[0;34m,\u001b[0m \u001b[0massert_message\u001b[0m\u001b[0;34m)\u001b[0m\u001b[0;34m:\u001b[0m\u001b[0;34m\u001b[0m\u001b[0m\n\u001b[0;32m---> 28\u001b[0;31m         \u001b[0;32massert\u001b[0m \u001b[0massert_condition\u001b[0m\u001b[0;34m,\u001b[0m \u001b[0massert_message\u001b[0m \u001b[0;34m+\u001b[0m \u001b[0;34m'\\n\\nUnit Test Function Parameters\\n'\u001b[0m \u001b[0;34m+\u001b[0m \u001b[0mself\u001b[0m\u001b[0;34m.\u001b[0m\u001b[0massert_param_message\u001b[0m\u001b[0;34m\u001b[0m\u001b[0m\n\u001b[0m\u001b[1;32m     29\u001b[0m \u001b[0;34m\u001b[0m\u001b[0m\n\u001b[1;32m     30\u001b[0m \u001b[0;34m\u001b[0m\u001b[0m\n",
      "\u001b[0;31mAssertionError\u001b[0m: Wrong output size. Expected type (50, 20). Got type torch.Size([150, 10])\n\nUnit Test Function Parameters\nInput Size: 20\nOutput Size: 20\nHidden Dim: 10\nN Layers: 2\nBatch Size: 50\nSequence Length: 3\nInput: tensor([[ 13,  10,  17],\n        [ 10,   3,   8],\n        [  9,  10,  13],\n        [  3,  12,  15],\n        [ 17,   5,  18],\n        [  9,  19,   6],\n        [ 19,  13,   2],\n        [ 11,   7,   7],\n        [ 10,   2,   3],\n        [  6,   0,  17],\n        [  8,   7,   7],\n        [ 15,   5,  10],\n        [ 17,   6,  18],\n        [  9,  13,  14],\n        [ 10,  15,  18],\n        [ 12,   7,  17],\n        [  2,   7,  11],\n        [ 14,  13,   3],\n        [  8,   8,  10],\n        [ 19,  13,   8],\n        [ 11,  12,  12],\n        [  0,   9,  16],\n        [ 11,   0,  12],\n        [  9,   7,   2],\n        [  6,   5,  17],\n        [  9,  18,   2],\n        [ 17,   2,  13],\n        [  7,   0,  12],\n        [ 17,   9,   9],\n        [  8,  13,   3],\n        [ 15,  11,  17],\n        [  1,  14,   5],\n        [ 11,   4,  13],\n        [ 16,   3,   9],\n        [ 10,   0,   4],\n        [ 13,  19,  10],\n        [ 15,   9,  17],\n        [ 17,   6,   8],\n        [  4,   1,  12],\n        [ 18,   6,  19],\n        [  0,  18,   6],\n        [  3,   4,   2],\n        [  5,   2,   9],\n        [ 13,   3,  15],\n        [ 13,   4,  12],\n        [ 11,  12,  18],\n        [  1,  14,  10],\n        [  2,   2,   9],\n        [  9,   5,   8],\n        [  8,   0,   2]])"
     ]
    }
   ],
   "source": [
    "import torch.nn as nn\n",
    "\n",
    "class RNN(nn.Module):\n",
    "    \n",
    "    def __init__(self, vocab_size, output_size, embedding_dim, hidden_dim, n_layers, dropout=0.5):\n",
    "        \"\"\"\n",
    "        Initialize the PyTorch RNN Module\n",
    "        :param vocab_size: The number of input dimensions of the neural network (the size of the vocabulary)\n",
    "        :param output_size: The number of output dimensions of the neural network\n",
    "        :param embedding_dim: The size of embeddings, should you choose to use them        \n",
    "        :param hidden_dim: The size of the hidden layer outputs\n",
    "        :param dropout: dropout to add in between LSTM/GRU layers\n",
    "        \"\"\"\n",
    "        super(RNN, self).__init__()\n",
    "        # TODO: Implement function\n",
    "        self.output_size = output_size\n",
    "        self.n_layers = n_layers\n",
    "        self.hidden_dim = hidden_dim\n",
    "        \n",
    "        # embedding and LSTM layers\n",
    "        self.embedding = nn.Embedding(vocab_size, embedding_dim)\n",
    "        self.lstm = nn.LSTM(embedding_dim, hidden_dim, n_layers, \n",
    "                            dropout=dropout, batch_first=True)\n",
    "        \n",
    "        # dropout layer\n",
    "        self.dropout = nn.Dropout(0.3)\n",
    "        \n",
    "        # linear and sigmoid layers\n",
    "        self.fc = nn.Linear(hidden_dim, output_size)\n",
    "        self.sig = nn.Sigmoid()\n",
    "        \n",
    "        \n",
    "        # set class variables\n",
    "        \n",
    "        # define model layers\n",
    "        \n",
    "        \n",
    "    def forward(self, nn_input, hidden):\n",
    "        \"\"\"\n",
    "        Forward propagation of the neural network\n",
    "        :param nn_input: The input to the neural network\n",
    "        :param hidden: The hidden state        \n",
    "        :return: Two Tensors, the output of the neural network and the latest hidden state\n",
    "        \"\"\"\n",
    "        x = nn_input\n",
    "        \n",
    "        # TODO: Implement function   \n",
    "        batch_size = x.size(0)\n",
    "\n",
    "        # embeddings and lstm_out\n",
    "        embeds = self.embedding(x)\n",
    "        lstm_out, hidden = self.lstm(embeds, hidden)\n",
    "    \n",
    "        # stack up lstm outputs\n",
    "        lstm_out = lstm_out.contiguous().view(-1, self.hidden_dim)\n",
    "        \n",
    "        # dropout and fully-connected layer\n",
    "        out = lstm_out\n",
    "#        out = self.dropout(lstm_out)\n",
    "#        out = self.fc(out)\n",
    "        '''\n",
    "        # sigmoid function\n",
    "        sig_out = self.sig(out)\n",
    "        \n",
    "        # reshape to be batch_size first\n",
    "        sig_out = sig_out.view(batch_size, -1)\n",
    "        sig_out = sig_out[:, -1] # get last batch of labels\n",
    "        \n",
    "        # return last sigmoid output and hidden state\n",
    "        return sig_out, hidden\n",
    "        '''\n",
    "        #lstm_output = lstm_output.contiguous().view(-1, self.hidden_dim)\n",
    "        \n",
    "        # return one batch of output word scores and the hidden state\n",
    "        return out, hidden\n",
    "        \n",
    "       \n",
    "    \n",
    "    def init_hidden(self, batch_size):\n",
    "        '''\n",
    "        Initialize the hidden state of an LSTM/GRU\n",
    "        :param batch_size: The batch_size of the hidden state\n",
    "        :return: hidden state of dims (n_layers, batch_size, hidden_dim)\n",
    "        '''\n",
    "        # Implement function\n",
    "        weight = next(self.parameters()).data\n",
    "        \n",
    "        if (train_on_gpu):\n",
    "            hidden = (weight.new(self.n_layers, batch_size, self.hidden_dim).zero_().cuda(),\n",
    "                  weight.new(self.n_layers, batch_size, self.hidden_dim).zero_().cuda())\n",
    "        else:\n",
    "            hidden = (weight.new(self.n_layers, batch_size, self.hidden_dim).zero_(),\n",
    "                      weight.new(self.n_layers, batch_size, self.hidden_dim).zero_())\n",
    "        \n",
    "        \n",
    "        # initialize hidden state with zero weights, and move to GPU if available\n",
    "        \n",
    "        return hidden\n",
    "\n",
    "       \n",
    "        \n",
    "\"\"\"\n",
    "DON'T MODIFY ANYTHING IN THIS CELL THAT IS BELOW THIS LINE\n",
    "\"\"\"\n",
    "tests.test_rnn(RNN, train_on_gpu)"
   ]
  },
  {
   "cell_type": "code",
   "execution_count": null,
   "metadata": {},
   "outputs": [],
   "source": []
  },
  {
   "cell_type": "code",
   "execution_count": 11,
   "metadata": {},
   "outputs": [
    {
     "ename": "NameError",
     "evalue": "name 'AssertTest' is not defined",
     "output_type": "error",
     "traceback": [
      "\u001b[0;31m---------------------------------------------------------------------------\u001b[0m",
      "\u001b[0;31mNameError\u001b[0m                                 Traceback (most recent call last)",
      "\u001b[0;32m<ipython-input-11-be51facaab6e>\u001b[0m in \u001b[0;36m<module>\u001b[0;34m()\u001b[0m\n\u001b[1;32m     24\u001b[0m \u001b[0moutput\u001b[0m\u001b[0;34m,\u001b[0m \u001b[0mhidden_out\u001b[0m \u001b[0;34m=\u001b[0m \u001b[0mrnn\u001b[0m\u001b[0;34m(\u001b[0m\u001b[0mb\u001b[0m\u001b[0;34m,\u001b[0m \u001b[0mhidden\u001b[0m\u001b[0;34m)\u001b[0m\u001b[0;34m\u001b[0m\u001b[0m\n\u001b[1;32m     25\u001b[0m \u001b[0;34m\u001b[0m\u001b[0m\n\u001b[0;32m---> 26\u001b[0;31m assert_test = AssertTest({\n\u001b[0m\u001b[1;32m     27\u001b[0m                              \u001b[0;34m'Input Size'\u001b[0m\u001b[0;34m:\u001b[0m \u001b[0mvocab_size\u001b[0m\u001b[0;34m,\u001b[0m\u001b[0;34m\u001b[0m\u001b[0m\n\u001b[1;32m     28\u001b[0m                              \u001b[0;34m'Output Size'\u001b[0m\u001b[0;34m:\u001b[0m \u001b[0moutput_size\u001b[0m\u001b[0;34m,\u001b[0m\u001b[0;34m\u001b[0m\u001b[0m\n",
      "\u001b[0;31mNameError\u001b[0m: name 'AssertTest' is not defined"
     ]
    }
   ],
   "source": [
    "batch_size = 50\n",
    "sequence_length = 3\n",
    "vocab_size = 20\n",
    "output_size=20\n",
    "embedding_dim=15\n",
    "hidden_dim = 10\n",
    "n_layers = 2\n",
    "    \n",
    "    # create test RNN\n",
    "    # params: (vocab_size, output_size, embedding_dim, hidden_dim, n_layers)\n",
    "rnn = RNN(vocab_size, output_size, embedding_dim, hidden_dim, n_layers)\n",
    "    \n",
    "    # create test input\n",
    "a = np.random.randint(vocab_size, size=(batch_size, sequence_length))\n",
    "    #b = torch.LongTensor(a)\n",
    "b = torch.from_numpy(a)\n",
    "hidden = rnn.init_hidden(batch_size)\n",
    "    \n",
    "    \n",
    "if(train_on_gpu):\n",
    "    rnn.cuda()\n",
    "    b = b.cuda()\n",
    "    \n",
    "output, hidden_out = rnn(b, hidden)\n",
    "    \n",
    "assert_test = AssertTest({\n",
    "                             'Input Size': vocab_size,\n",
    "                             'Output Size': output_size,\n",
    "                             'Hidden Dim': hidden_dim,\n",
    "                             'N Layers': n_layers,\n",
    "                             'Batch Size': batch_size,\n",
    "                             'Sequence Length': sequence_length,\n",
    "                             'Input': b})\n",
    "    \n",
    "    # initialization\n",
    "correct_hidden_size = (n_layers, batch_size, hidden_dim)\n",
    "assert_condition = hidden[0].size() == correct_hidden_size\n",
    "assert_message = 'Wrong hidden state size. Expected type {}. Got type {}'.format(correct_hidden_size, hidden[0].size())\n",
    "assert_test.test(assert_condition, assert_message)\n",
    "    \n",
    "    # output of rnn\n",
    "correct_hidden_size = (n_layers, batch_size, hidden_dim)\n",
    "assert_condition = hidden_out[0].size() == correct_hidden_size\n",
    "assert_message = 'Wrong hidden state size. Expected type {}. Got type {}'.format(correct_hidden_size, hidden_out[0].size())\n",
    "assert_test.test(assert_condition, assert_message)\n",
    "    \n",
    "correct_output_size = (batch_size, output_size)\n",
    "assert_condition = output.size() == correct_output_size\n",
    "assert_message = 'Wrong output size. Expected type {}. Got type {}'.format(correct_output_size, output.size())\n",
    "assert_test.test(assert_condition, assert_message)\n",
    "    \n",
    "#    _print_success_message()\n",
    "\n",
    "\n"
   ]
  },
  {
   "cell_type": "code",
   "execution_count": 25,
   "metadata": {},
   "outputs": [
    {
     "name": "stdout",
     "output_type": "stream",
     "text": [
      "RNN(\n",
      "  (embedding): Embedding(20, 15)\n",
      "  (lstm): LSTM(15, 10, num_layers=2, batch_first=True, dropout=0.5)\n",
      "  (dropout): Dropout(p=0.3)\n",
      "  (fc): Linear(in_features=10, out_features=20, bias=True)\n",
      "  (sig): Sigmoid()\n",
      ")\n",
      "Tests Passed\n",
      "True\n",
      "torch.Size([2, 50, 10])\n",
      "(2, 50, 10)\n",
      "True\n",
      "Wrong hidden state size. Expected type (2, 50, 10). Got type torch.Size([2, 50, 10])\n"
     ]
    },
    {
     "ename": "AssertionError",
     "evalue": "Wrong output size. Expected type (50, 20). Got type torch.Size([150, 20])\n\nUnit Test Function Parameters\nInput Size: 20\nOutput Size: 20\nHidden Dim: 10\nN Layers: 2\nBatch Size: 50\nSequence Length: 3\nInput: tensor([[  3,  10,  19],\n        [ 11,  17,   6],\n        [ 18,  11,  14],\n        [  4,   2,  19],\n        [ 13,  11,  11],\n        [  1,  11,  18],\n        [  9,   8,   1],\n        [ 19,  10,  19],\n        [  3,   9,   8],\n        [ 15,  15,  12],\n        [  2,   3,  19],\n        [ 19,  10,   6],\n        [ 12,  16,  18],\n        [ 11,   4,  16],\n        [  8,   3,  17],\n        [ 14,  15,   4],\n        [ 11,  12,  12],\n        [  7,  17,   8],\n        [ 13,  12,  10],\n        [  0,   9,   9],\n        [  7,   0,   4],\n        [  4,  14,  15],\n        [  4,   6,  12],\n        [ 15,  13,   9],\n        [ 13,   4,  15],\n        [  7,   3,   3],\n        [  0,  12,  18],\n        [ 10,   4,  11],\n        [  8,  18,  17],\n        [  9,   0,  10],\n        [  4,  12,  12],\n        [ 14,   1,  10],\n        [ 16,  15,  10],\n        [ 17,  16,   9],\n        [ 14,   9,   5],\n        [  8,   1,  19],\n        [  3,  19,   6],\n        [  7,  15,  14],\n        [ 17,   1,   7],\n        [  6,  11,   7],\n        [  0,   7,   4],\n        [ 13,  12,   6],\n        [ 11,   1,  10],\n        [  9,   2,  13],\n        [  8,  16,   0],\n        [  7,   2,   8],\n        [  1,   5,  11],\n        [ 11,  14,  17],\n        [  2,   2,   8],\n        [  4,   5,  10]])",
     "output_type": "error",
     "traceback": [
      "\u001b[0;31m---------------------------------------------------------------------------\u001b[0m",
      "\u001b[0;31mAssertionError\u001b[0m                            Traceback (most recent call last)",
      "\u001b[0;32m<ipython-input-25-271352537880>\u001b[0m in \u001b[0;36m<module>\u001b[0;34m()\u001b[0m\n\u001b[1;32m     68\u001b[0m \u001b[0massert_condition\u001b[0m \u001b[0;34m=\u001b[0m \u001b[0moutput\u001b[0m\u001b[0;34m.\u001b[0m\u001b[0msize\u001b[0m\u001b[0;34m(\u001b[0m\u001b[0;34m)\u001b[0m \u001b[0;34m==\u001b[0m \u001b[0mcorrect_output_size\u001b[0m\u001b[0;34m\u001b[0m\u001b[0m\n\u001b[1;32m     69\u001b[0m \u001b[0massert_message\u001b[0m \u001b[0;34m=\u001b[0m \u001b[0;34m'Wrong output size. Expected type {}. Got type {}'\u001b[0m\u001b[0;34m.\u001b[0m\u001b[0mformat\u001b[0m\u001b[0;34m(\u001b[0m\u001b[0mcorrect_output_size\u001b[0m\u001b[0;34m,\u001b[0m \u001b[0moutput\u001b[0m\u001b[0;34m.\u001b[0m\u001b[0msize\u001b[0m\u001b[0;34m(\u001b[0m\u001b[0;34m)\u001b[0m\u001b[0;34m)\u001b[0m\u001b[0;34m\u001b[0m\u001b[0m\n\u001b[0;32m---> 70\u001b[0;31m \u001b[0massert_test\u001b[0m\u001b[0;34m.\u001b[0m\u001b[0mtest\u001b[0m\u001b[0;34m(\u001b[0m\u001b[0massert_condition\u001b[0m\u001b[0;34m,\u001b[0m \u001b[0massert_message\u001b[0m\u001b[0;34m)\u001b[0m\u001b[0;34m\u001b[0m\u001b[0m\n\u001b[0m",
      "\u001b[0;32m<ipython-input-25-271352537880>\u001b[0m in \u001b[0;36mtest\u001b[0;34m(self, assert_condition, assert_message)\u001b[0m\n\u001b[1;32m      4\u001b[0m \u001b[0;34m\u001b[0m\u001b[0m\n\u001b[1;32m      5\u001b[0m     \u001b[0;32mdef\u001b[0m \u001b[0mtest\u001b[0m\u001b[0;34m(\u001b[0m\u001b[0mself\u001b[0m\u001b[0;34m,\u001b[0m \u001b[0massert_condition\u001b[0m\u001b[0;34m,\u001b[0m \u001b[0massert_message\u001b[0m\u001b[0;34m)\u001b[0m\u001b[0;34m:\u001b[0m\u001b[0;34m\u001b[0m\u001b[0m\n\u001b[0;32m----> 6\u001b[0;31m         \u001b[0;32massert\u001b[0m \u001b[0massert_condition\u001b[0m\u001b[0;34m,\u001b[0m \u001b[0massert_message\u001b[0m \u001b[0;34m+\u001b[0m \u001b[0;34m'\\n\\nUnit Test Function Parameters\\n'\u001b[0m \u001b[0;34m+\u001b[0m \u001b[0mself\u001b[0m\u001b[0;34m.\u001b[0m\u001b[0massert_param_message\u001b[0m\u001b[0;34m\u001b[0m\u001b[0m\n\u001b[0m\u001b[1;32m      7\u001b[0m \u001b[0;34m\u001b[0m\u001b[0m\n\u001b[1;32m      8\u001b[0m \u001b[0;32mdef\u001b[0m \u001b[0m_print_success_message\u001b[0m\u001b[0;34m(\u001b[0m\u001b[0;34m)\u001b[0m\u001b[0;34m:\u001b[0m\u001b[0;34m\u001b[0m\u001b[0m\n",
      "\u001b[0;31mAssertionError\u001b[0m: Wrong output size. Expected type (50, 20). Got type torch.Size([150, 20])\n\nUnit Test Function Parameters\nInput Size: 20\nOutput Size: 20\nHidden Dim: 10\nN Layers: 2\nBatch Size: 50\nSequence Length: 3\nInput: tensor([[  3,  10,  19],\n        [ 11,  17,   6],\n        [ 18,  11,  14],\n        [  4,   2,  19],\n        [ 13,  11,  11],\n        [  1,  11,  18],\n        [  9,   8,   1],\n        [ 19,  10,  19],\n        [  3,   9,   8],\n        [ 15,  15,  12],\n        [  2,   3,  19],\n        [ 19,  10,   6],\n        [ 12,  16,  18],\n        [ 11,   4,  16],\n        [  8,   3,  17],\n        [ 14,  15,   4],\n        [ 11,  12,  12],\n        [  7,  17,   8],\n        [ 13,  12,  10],\n        [  0,   9,   9],\n        [  7,   0,   4],\n        [  4,  14,  15],\n        [  4,   6,  12],\n        [ 15,  13,   9],\n        [ 13,   4,  15],\n        [  7,   3,   3],\n        [  0,  12,  18],\n        [ 10,   4,  11],\n        [  8,  18,  17],\n        [  9,   0,  10],\n        [  4,  12,  12],\n        [ 14,   1,  10],\n        [ 16,  15,  10],\n        [ 17,  16,   9],\n        [ 14,   9,   5],\n        [  8,   1,  19],\n        [  3,  19,   6],\n        [  7,  15,  14],\n        [ 17,   1,   7],\n        [  6,  11,   7],\n        [  0,   7,   4],\n        [ 13,  12,   6],\n        [ 11,   1,  10],\n        [  9,   2,  13],\n        [  8,  16,   0],\n        [  7,   2,   8],\n        [  1,   5,  11],\n        [ 11,  14,  17],\n        [  2,   2,   8],\n        [  4,   5,  10]])"
     ]
    }
   ],
   "source": [
    "class AssertTest(object):\n",
    "    def __init__(self, params):\n",
    "        self.assert_param_message = '\\n'.join([str(k) + ': ' + str(v) + '' for k, v in params.items()])\n",
    "    \n",
    "    def test(self, assert_condition, assert_message):\n",
    "        assert assert_condition, assert_message + '\\n\\nUnit Test Function Parameters\\n' + self.assert_param_message\n",
    "\n",
    "def _print_success_message():\n",
    "    print('Tests Passed')\n",
    "\n",
    "\n",
    "batch_size = 50\n",
    "sequence_length = 3\n",
    "vocab_size = 20\n",
    "output_size=20\n",
    "embedding_dim=15\n",
    "hidden_dim = 10\n",
    "n_layers = 2\n",
    "    \n",
    "    # create test RNN\n",
    "    # params: (vocab_size, output_size, embedding_dim, hidden_dim, n_layers)\n",
    "rnn = RNN(vocab_size, output_size, embedding_dim, hidden_dim, n_layers)\n",
    "  \n",
    "print(rnn)\n",
    "    # create test input\n",
    "a = np.random.randint(vocab_size, size=(batch_size, sequence_length))\n",
    "    #b = torch.LongTensor(a)\n",
    "b = torch.from_numpy(a)\n",
    "hidden = rnn.init_hidden(batch_size)\n",
    "    \n",
    "#print(hidden)\n",
    "    \n",
    "if(train_on_gpu):\n",
    "    rnn.cuda()\n",
    "    b = b.cuda()\n",
    "    \n",
    "output, hidden_out = rnn(b, hidden)\n",
    "\n",
    "assert_test = AssertTest({\n",
    "                             'Input Size': vocab_size,\n",
    "                             'Output Size': output_size,\n",
    "                             'Hidden Dim': hidden_dim,\n",
    "                             'N Layers': n_layers,\n",
    "                             'Batch Size': batch_size,\n",
    "                             'Sequence Length': sequence_length,\n",
    "                             'Input': b})\n",
    "\n",
    "\n",
    "correct_hidden_size = (n_layers, batch_size, hidden_dim)\n",
    "assert_condition = hidden[0].size() == correct_hidden_size\n",
    "assert_message = 'Wrong hidden state size. Expected type {}. Got type {}'.format(correct_hidden_size, hidden[0].size())\n",
    "assert_test.test(assert_condition, assert_message)\n",
    "_print_success_message()\n",
    "\n",
    "print(hidden[0].size() == correct_hidden_size)\n",
    "print(hidden[0].size())\n",
    "print(correct_hidden_size)\n",
    "print(assert_condition)\n",
    "print(assert_message)\n",
    "#print('done')\n",
    "\n",
    "correct_hidden_size = (n_layers, batch_size, hidden_dim)\n",
    "assert_condition = hidden_out[0].size() == correct_hidden_size\n",
    "assert_message = 'Wrong hidden state size. Expected type {}. Got type {}'.format(correct_hidden_size, hidden_out[0].size())\n",
    "assert_test.test(assert_condition, assert_message)\n",
    "    \n",
    "correct_output_size = (batch_size, output_size)\n",
    "assert_condition = output.size() == correct_output_size\n",
    "assert_message = 'Wrong output size. Expected type {}. Got type {}'.format(correct_output_size, output.size())\n",
    "assert_test.test(assert_condition, assert_message)\n",
    "\n"
   ]
  },
  {
   "cell_type": "code",
   "execution_count": 13,
   "metadata": {},
   "outputs": [
    {
     "data": {
      "text/plain": [
       "torch.Size([2, 50, 10])"
      ]
     },
     "execution_count": 13,
     "metadata": {},
     "output_type": "execute_result"
    }
   ],
   "source": [
    "def init_hidden(self, batch_size):\n",
    "        '''\n",
    "        Initialize the hidden state of an LSTM/GRU\n",
    "        :param batch_size: The batch_size of the hidden state\n",
    "        :return: hidden state of dims (n_layers, batch_size, hidden_dim)\n",
    "        '''\n",
    "        # Implement function\n",
    "        weight = next(self.parameters()).data\n",
    "        \n",
    "        if (train_on_gpu):\n",
    "            hidden = (weight.new(self.n_layers, batch_size, self.hidden_dim).zero_().cuda(),\n",
    "                  weight.new(self.n_layers, batch_size, self.hidden_dim).zero_().cuda())\n",
    "        else:\n",
    "            hidden = (weight.new(self.n_layers, batch_size, self.hidden_dim).zero_(),\n",
    "                      weight.new(self.n_layers, batch_size, self.hidden_dim).zero_())\n",
    "        \n",
    "        \n",
    "        # initialize hidden state with zero weights, and move to GPU if available\n",
    "        \n",
    "        return hidden\n",
    "\n",
    "batch_size=50\n",
    "hidden = rnn.init_hidden(batch_size)\n",
    "hidden[0].size()"
   ]
  },
  {
   "cell_type": "code",
   "execution_count": 28,
   "metadata": {},
   "outputs": [
    {
     "name": "stdout",
     "output_type": "stream",
     "text": [
      "torch.Size([50, 3, 15])\n",
      "torch.Size([50, 3, 10])\n",
      "tensor([[[ 0.1146,  0.1333, -0.1059,  ...,  0.1048,  0.1690,  0.0956],\n",
      "         [ 0.0864,  0.1370, -0.1020,  ...,  0.1027,  0.2002,  0.0946],\n",
      "         [ 0.1486,  0.1614, -0.0932,  ...,  0.0928,  0.2623,  0.1339]],\n",
      "\n",
      "        [[ 0.1451,  0.2218, -0.0974,  ...,  0.1391,  0.1950,  0.0808],\n",
      "         [ 0.0951,  0.1866, -0.1087,  ...,  0.0953,  0.2174,  0.1209],\n",
      "         [ 0.0875,  0.1784, -0.0892,  ...,  0.1001,  0.1985,  0.1529]],\n",
      "\n",
      "        [[ 0.1105,  0.1760, -0.1106,  ...,  0.1035,  0.2555,  0.1588],\n",
      "         [ 0.1416,  0.1490, -0.0915,  ...,  0.1392,  0.2096,  0.1668],\n",
      "         [ 0.1609,  0.1099, -0.0851,  ...,  0.1318,  0.2013,  0.1548]],\n",
      "\n",
      "        ...,\n",
      "\n",
      "        [[ 0.0951,  0.1521, -0.1465,  ...,  0.0365,  0.2621,  0.1399],\n",
      "         [ 0.0908,  0.1097, -0.1385,  ...,  0.0676,  0.2147,  0.1545],\n",
      "         [ 0.0651,  0.1566, -0.1283,  ...,  0.0611,  0.2518,  0.1556]],\n",
      "\n",
      "        [[ 0.2169,  0.2519, -0.2484,  ..., -0.0546,  0.2144, -0.0691],\n",
      "         [ 0.1837,  0.2680, -0.2357,  ..., -0.0407,  0.2196, -0.0848],\n",
      "         [ 0.1663,  0.2483, -0.2630,  ..., -0.0797,  0.1732, -0.1093]],\n",
      "\n",
      "        [[ 0.1113,  0.1768, -0.1424,  ...,  0.0637,  0.1725, -0.0144],\n",
      "         [ 0.1029,  0.1588, -0.1265,  ...,  0.0556,  0.1762, -0.0058],\n",
      "         [ 0.1269,  0.1725, -0.1385,  ...,  0.0524,  0.2087,  0.0313]]])\n",
      "torch.Size([50, 3, 10])\n",
      "torch.Size([150, 10])\n",
      "torch.Size([150, 20])\n"
     ]
    }
   ],
   "source": [
    "x = b\n",
    "        \n",
    "# TODO: Implement function   \n",
    "batch_size = x.size(0)\n",
    "\n",
    "        # embeddings and lstm_out\n",
    "embeds = rnn.embedding(x)\n",
    "print(embeds.size())\n",
    "lstm_out, hidden = rnn.lstm(embeds, hidden)\n",
    "print(lstm_out.size())    \n",
    "        # stack up lstm outputs\n",
    "print(lstm_out)\n",
    "a=lstm_out.contiguous().size()\n",
    "print(a)\n",
    "    \n",
    "    \n",
    "lstm_out = lstm_out.contiguous().view(-1, rnn.hidden_dim)\n",
    "        \n",
    "        # dropout and fully-connected layer\n",
    "out = rnn.dropout(lstm_out)\n",
    "out = rnn.fc(out)\n",
    "\n",
    "#print(batch_size)\n",
    "#print(embeds)\n",
    "print(lstm_out.size())\n",
    "print(out.size())"
   ]
  },
  {
   "cell_type": "code",
   "execution_count": 31,
   "metadata": {},
   "outputs": [
    {
     "name": "stdout",
     "output_type": "stream",
     "text": [
      "50\n",
      "torch.Size([50, 3, 15])\n",
      "tensor([[[ 4.1690e-01, -1.3356e+00,  8.1985e-01,  ...,  9.1942e-02,\n",
      "          -5.2862e-01, -4.4218e-01],\n",
      "         [ 3.0997e-01,  8.6869e-01,  6.3513e-01,  ..., -1.1907e+00,\n",
      "           1.1116e+00,  8.0429e-01],\n",
      "         [-1.3133e+00,  3.5224e-02, -3.6593e-01,  ..., -1.3941e+00,\n",
      "          -1.2431e+00, -1.7545e+00]],\n",
      "\n",
      "        [[ 1.1602e+00, -1.3797e+00,  5.6527e-01,  ...,  4.4295e-01,\n",
      "          -4.7673e-01, -1.1353e+00],\n",
      "         [ 8.6292e-02, -1.9020e-01,  4.6271e-03,  ...,  4.2173e-01,\n",
      "          -1.0079e+00, -4.1529e-01],\n",
      "         [-1.1593e+00, -3.6820e-05, -1.5522e+00,  ...,  1.4538e+00,\n",
      "          -7.9814e-01, -1.2386e+00]],\n",
      "\n",
      "        [[-1.0628e+00,  1.6459e-01,  1.1825e-01,  ...,  8.0037e-01,\n",
      "           1.0238e+00, -1.4006e+00],\n",
      "         [-6.1913e-01, -2.0339e+00,  9.0965e-01,  ...,  1.5007e+00,\n",
      "          -2.1775e-01, -9.0798e-01],\n",
      "         [-1.1593e+00, -3.6820e-05, -1.5522e+00,  ...,  1.4538e+00,\n",
      "          -7.9814e-01, -1.2386e+00]],\n",
      "\n",
      "        ...,\n",
      "\n",
      "        [[ 3.4882e-01, -5.4097e-02,  7.4484e-01,  ..., -1.8436e+00,\n",
      "           1.9731e+00, -1.1052e-01],\n",
      "         [-1.3883e+00, -6.6367e-02,  1.2020e+00,  ..., -5.9986e-01,\n",
      "          -6.5472e-01,  1.7342e+00],\n",
      "         [-1.3133e+00,  3.5224e-02, -3.6593e-01,  ..., -1.3941e+00,\n",
      "          -1.2431e+00, -1.7545e+00]],\n",
      "\n",
      "        [[ 8.6292e-02, -1.9020e-01,  4.6271e-03,  ...,  4.2173e-01,\n",
      "          -1.0079e+00, -4.1529e-01],\n",
      "         [ 1.1602e+00, -1.3797e+00,  5.6527e-01,  ...,  4.4295e-01,\n",
      "          -4.7673e-01, -1.1353e+00],\n",
      "         [ 1.3310e+00,  4.5866e-01, -4.2771e-01,  ..., -1.3948e+00,\n",
      "           6.6542e-01,  1.5949e+00]],\n",
      "\n",
      "        [[ 5.7130e-01,  1.9625e-01,  3.9447e-01,  ..., -6.3584e-01,\n",
      "          -1.1595e+00,  1.1354e-01],\n",
      "         [-1.3883e+00, -6.6367e-02,  1.2020e+00,  ..., -5.9986e-01,\n",
      "          -6.5472e-01,  1.7342e+00],\n",
      "         [ 3.0997e-01,  8.6869e-01,  6.3513e-01,  ..., -1.1907e+00,\n",
      "           1.1116e+00,  8.0429e-01]]])\n",
      "torch.Size([50, 3, 10])\n"
     ]
    }
   ],
   "source": [
    "#nn_input, hidden):\n",
    "'''\n",
    "batch_size = 50\n",
    "sequence_length = 3\n",
    "vocab_size = 20\n",
    "output_size=20\n",
    "embedding_dim=15\n",
    "hidden_dim = 10\n",
    "n_layers = 2\n",
    "\n",
    "'''\n",
    "a = np.random.randint(vocab_size, size=(batch_size, sequence_length))\n",
    "    #b = torch.LongTensor(a)\n",
    "b = torch.from_numpy(a)\n",
    "\n",
    "\n",
    "#print(b)\n",
    "\n",
    "nn_input = b\n",
    "\"\"\"\n",
    "        Forward propagation of the neural network\n",
    "        :param nn_input: The input to the neural network\n",
    "        :param hidden: The hidden state        \n",
    "        :return: Two Tensors, the output of the neural network and the latest hidden state\n",
    "        \"\"\"\n",
    "\n",
    "    \n",
    "x = nn_input\n",
    "        \n",
    "# TODO: Implement function   \n",
    "batch_size = x.size(0)\n",
    "print(batch_size)\n",
    "# embeddings and lstm_out\n",
    "embeds = rnn.embedding(x)\n",
    "print(embeds.size())\n",
    "print(embeds)\n",
    "\n",
    "lstm_out, hidden = rnn.lstm(embeds, hidden)\n",
    "print(lstm_out.size())    \n",
    "        # stack up lstm outputs\n",
    "lstm_out = lstm_out.contiguous().view(-1, rnn.hidden_dim)\n",
    "        \n",
    "        # dropout and fully-connected layer\n",
    "out = rnn.dropout(lstm_out)\n",
    "out = rnn.fc(out)\n"
   ]
  },
  {
   "cell_type": "code",
   "execution_count": null,
   "metadata": {},
   "outputs": [],
   "source": []
  },
  {
   "cell_type": "code",
   "execution_count": null,
   "metadata": {},
   "outputs": [],
   "source": []
  },
  {
   "cell_type": "code",
   "execution_count": null,
   "metadata": {},
   "outputs": [],
   "source": []
  },
  {
   "cell_type": "code",
   "execution_count": null,
   "metadata": {},
   "outputs": [],
   "source": []
  },
  {
   "cell_type": "code",
   "execution_count": null,
   "metadata": {},
   "outputs": [],
   "source": []
  },
  {
   "cell_type": "code",
   "execution_count": null,
   "metadata": {},
   "outputs": [],
   "source": []
  },
  {
   "cell_type": "code",
   "execution_count": null,
   "metadata": {},
   "outputs": [],
   "source": []
  },
  {
   "cell_type": "code",
   "execution_count": null,
   "metadata": {},
   "outputs": [],
   "source": []
  },
  {
   "cell_type": "code",
   "execution_count": null,
   "metadata": {},
   "outputs": [],
   "source": []
  },
  {
   "cell_type": "code",
   "execution_count": null,
   "metadata": {},
   "outputs": [],
   "source": []
  },
  {
   "cell_type": "code",
   "execution_count": null,
   "metadata": {},
   "outputs": [],
   "source": []
  },
  {
   "cell_type": "code",
   "execution_count": null,
   "metadata": {},
   "outputs": [],
   "source": []
  },
  {
   "cell_type": "markdown",
   "metadata": {},
   "source": [
    "### Define forward and backpropagation\n",
    "\n",
    "Use the RNN class you implemented to apply forward and back propagation. This function will be called, iteratively, in the training loop as follows:\n",
    "```\n",
    "loss = forward_back_prop(decoder, decoder_optimizer, criterion, inp, target)\n",
    "```\n",
    "\n",
    "And it should return the average loss over a batch and the hidden state returned by a call to `RNN(inp, hidden)`. Recall that you can get this loss by computing it, as usual, and calling `loss.item()`.\n",
    "\n",
    "**If a GPU is available, you should move your data to that GPU device, here.**"
   ]
  },
  {
   "cell_type": "code",
   "execution_count": null,
   "metadata": {
    "collapsed": true
   },
   "outputs": [],
   "source": [
    "def forward_back_prop(rnn, optimizer, criterion, inp, target, hidden):\n",
    "    \"\"\"\n",
    "    Forward and backward propagation on the neural network\n",
    "    :param decoder: The PyTorch Module that holds the neural network\n",
    "    :param decoder_optimizer: The PyTorch optimizer for the neural network\n",
    "    :param criterion: The PyTorch loss function\n",
    "    :param inp: A batch of input to the neural network\n",
    "    :param target: The target output for the batch of input\n",
    "    :return: The loss and the latest hidden state Tensor\n",
    "    \"\"\"\n",
    "    \n",
    "    # TODO: Implement Function\n",
    "    \n",
    "    # move data to GPU, if available\n",
    "    \n",
    "    # perform backpropagation and optimization\n",
    "\n",
    "    # return the loss over a batch and the hidden state produced by our model\n",
    "    return None, None\n",
    "\n",
    "# Note that these tests aren't completely extensive.\n",
    "# they are here to act as general checks on the expected outputs of your functions\n",
    "\"\"\"\n",
    "DON'T MODIFY ANYTHING IN THIS CELL THAT IS BELOW THIS LINE\n",
    "\"\"\"\n",
    "tests.test_forward_back_prop(RNN, forward_back_prop, train_on_gpu)"
   ]
  },
  {
   "cell_type": "markdown",
   "metadata": {},
   "source": [
    "## Neural Network Training\n",
    "\n",
    "With the structure of the network complete and data ready to be fed in the neural network, it's time to train it.\n",
    "\n",
    "### Train Loop\n",
    "\n",
    "The training loop is implemented for you in the `train_decoder` function. This function will train the network over all the batches for the number of epochs given. The model progress will be shown every number of batches. This number is set with the `show_every_n_batches` parameter. You'll set this parameter along with other parameters in the next section."
   ]
  },
  {
   "cell_type": "code",
   "execution_count": null,
   "metadata": {
    "collapsed": true
   },
   "outputs": [],
   "source": [
    "\"\"\"\n",
    "DON'T MODIFY ANYTHING IN THIS CELL\n",
    "\"\"\"\n",
    "\n",
    "def train_rnn(rnn, batch_size, optimizer, criterion, n_epochs, show_every_n_batches=100):\n",
    "    batch_losses = []\n",
    "    \n",
    "    rnn.train()\n",
    "\n",
    "    print(\"Training for %d epoch(s)...\" % n_epochs)\n",
    "    for epoch_i in range(1, n_epochs + 1):\n",
    "        \n",
    "        # initialize hidden state\n",
    "        hidden = rnn.init_hidden(batch_size)\n",
    "        \n",
    "        for batch_i, (inputs, labels) in enumerate(train_loader, 1):\n",
    "            \n",
    "            # make sure you iterate over completely full batches, only\n",
    "            n_batches = len(train_loader.dataset)//batch_size\n",
    "            if(batch_i > n_batches):\n",
    "                break\n",
    "            \n",
    "            # forward, back prop\n",
    "            loss, hidden = forward_back_prop(rnn, optimizer, criterion, inputs, labels, hidden)          \n",
    "            # record loss\n",
    "            batch_losses.append(loss)\n",
    "\n",
    "            # printing loss stats\n",
    "            if batch_i % show_every_n_batches == 0:\n",
    "                print('Epoch: {:>4}/{:<4}  Loss: {}\\n'.format(\n",
    "                    epoch_i, n_epochs, np.average(batch_losses)))\n",
    "                batch_losses = []\n",
    "\n",
    "    # returns a trained rnn\n",
    "    return rnn"
   ]
  },
  {
   "cell_type": "markdown",
   "metadata": {},
   "source": [
    "### Hyperparameters\n",
    "\n",
    "Set and train the neural network with the following parameters:\n",
    "- Set `sequence_length` to the length of a sequence.\n",
    "- Set `batch_size` to the batch size.\n",
    "- Set `num_epochs` to the number of epochs to train for.\n",
    "- Set `learning_rate` to the learning rate for an Adam optimizer.\n",
    "- Set `vocab_size` to the number of uniqe tokens in our vocabulary.\n",
    "- Set `output_size` to the desired size of the output.\n",
    "- Set `embedding_dim` to the embedding dimension; smaller than the vocab_size.\n",
    "- Set `hidden_dim` to the hidden dimension of your RNN.\n",
    "- Set `n_layers` to the number of layers/cells in your RNN.\n",
    "- Set `show_every_n_batches` to the number of batches at which the neural network should print progress.\n",
    "\n",
    "If the network isn't getting the desired results, tweak these parameters and/or the layers in the `RNN` class."
   ]
  },
  {
   "cell_type": "code",
   "execution_count": null,
   "metadata": {
    "collapsed": true
   },
   "outputs": [],
   "source": [
    "# Data params\n",
    "# Sequence Length\n",
    "sequence_length =   # of words in a sequence\n",
    "# Batch Size\n",
    "batch_size = \n",
    "\n",
    "# data loader - do not change\n",
    "train_loader = batch_data(int_text, sequence_length, batch_size)"
   ]
  },
  {
   "cell_type": "code",
   "execution_count": null,
   "metadata": {
    "collapsed": true
   },
   "outputs": [],
   "source": [
    "# Training parameters\n",
    "# Number of Epochs\n",
    "num_epochs = \n",
    "# Learning Rate\n",
    "learning_rate = \n",
    "\n",
    "# Model parameters\n",
    "# Vocab size\n",
    "vocab_size = \n",
    "# Output size\n",
    "output_size = \n",
    "# Embedding Dimension\n",
    "embedding_dim = \n",
    "# Hidden Dimension\n",
    "hidden_dim = \n",
    "# Number of RNN Layers\n",
    "n_layers = \n",
    "\n",
    "# Show stats for every n number of batches\n",
    "show_every_n_batches = 500"
   ]
  },
  {
   "cell_type": "markdown",
   "metadata": {},
   "source": [
    "### Train\n",
    "In the next cell, you'll train the neural network on the pre-processed data.  If you have a hard time getting a good loss, you may consider changing your hyperparameters. In general, you may get better results with larger hidden and n_layer dimensions, but larger models take a longer time to train. \n",
    "> **You should aim for a loss less than 3.5.** \n",
    "\n",
    "You should also experiment with different sequence lengths, which determine the size of the long range dependencies that a model can learn."
   ]
  },
  {
   "cell_type": "code",
   "execution_count": null,
   "metadata": {
    "collapsed": true
   },
   "outputs": [],
   "source": [
    "\"\"\"\n",
    "DON'T MODIFY ANYTHING IN THIS CELL\n",
    "\"\"\"\n",
    "\n",
    "# create model and move to gpu if available\n",
    "rnn = RNN(vocab_size, output_size, embedding_dim, hidden_dim, n_layers, dropout=0.5)\n",
    "if train_on_gpu:\n",
    "    rnn.cuda()\n",
    "\n",
    "# defining loss and optimization functions for training\n",
    "optimizer = torch.optim.Adam(rnn.parameters(), lr=learning_rate)\n",
    "criterion = nn.CrossEntropyLoss()\n",
    "\n",
    "# training the model\n",
    "trained_rnn = train_rnn(rnn, batch_size, optimizer, criterion, num_epochs, show_every_n_batches)\n",
    "\n",
    "# saving the trained model\n",
    "helper.save_model('./save/trained_rnn', trained_rnn)\n",
    "print('Model Trained and Saved')"
   ]
  },
  {
   "cell_type": "markdown",
   "metadata": {},
   "source": [
    "### Question: How did you decide on your model hyperparameters? \n",
    "For example, did you try different sequence_lengths and find that one size made the model converge faster? What about your hidden_dim and n_layers; how did you decide on those?"
   ]
  },
  {
   "cell_type": "markdown",
   "metadata": {},
   "source": [
    "**Answer:** (Write answer, here)"
   ]
  },
  {
   "cell_type": "markdown",
   "metadata": {},
   "source": [
    "---\n",
    "# Checkpoint\n",
    "\n",
    "After running the above training cell, your model will be saved by name, `trained_rnn`, and if you save your notebook progress, **you can pause here and come back to this code at another time**. You can resume your progress by running the next cell, which will load in our word:id dictionaries _and_ load in your saved model by name!"
   ]
  },
  {
   "cell_type": "code",
   "execution_count": null,
   "metadata": {
    "collapsed": true
   },
   "outputs": [],
   "source": [
    "\"\"\"\n",
    "DON'T MODIFY ANYTHING IN THIS CELL\n",
    "\"\"\"\n",
    "import torch\n",
    "import helper\n",
    "import problem_unittests as tests\n",
    "\n",
    "_, vocab_to_int, int_to_vocab, token_dict = helper.load_preprocess()\n",
    "trained_rnn = helper.load_model('./save/trained_rnn')"
   ]
  },
  {
   "cell_type": "markdown",
   "metadata": {},
   "source": [
    "## Generate TV Script\n",
    "With the network trained and saved, you'll use it to generate a new, \"fake\" Seinfeld TV script in this section.\n",
    "\n",
    "### Generate Text\n",
    "To generate the text, the network needs to start with a single word and repeat its predictions until it reaches a set length. You'll be using the `generate` function to do this. It takes a word id to start with, `prime_id`, and generates a set length of text, `predict_len`. Also note that it uses topk sampling to introduce some randomness in choosing the most likely next word, given an output set of word scores!"
   ]
  },
  {
   "cell_type": "code",
   "execution_count": null,
   "metadata": {
    "collapsed": true
   },
   "outputs": [],
   "source": [
    "\"\"\"\n",
    "DON'T MODIFY ANYTHING IN THIS CELL THAT IS BELOW THIS LINE\n",
    "\"\"\"\n",
    "import torch.nn.functional as F\n",
    "\n",
    "def generate(rnn, prime_id, int_to_vocab, token_dict, pad_value, predict_len=100):\n",
    "    \"\"\"\n",
    "    Generate text using the neural network\n",
    "    :param decoder: The PyTorch Module that holds the trained neural network\n",
    "    :param prime_id: The word id to start the first prediction\n",
    "    :param int_to_vocab: Dict of word id keys to word values\n",
    "    :param token_dict: Dict of puncuation tokens keys to puncuation values\n",
    "    :param pad_value: The value used to pad a sequence\n",
    "    :param predict_len: The length of text to generate\n",
    "    :return: The generated text\n",
    "    \"\"\"\n",
    "    rnn.eval()\n",
    "    \n",
    "    # create a sequence (batch_size=1) with the prime_id\n",
    "    current_seq = np.full((1, sequence_length), pad_value)\n",
    "    current_seq[-1][-1] = prime_id\n",
    "    predicted = [int_to_vocab[prime_id]]\n",
    "    \n",
    "    for _ in range(predict_len):\n",
    "        if train_on_gpu:\n",
    "            current_seq = torch.LongTensor(current_seq).cuda()\n",
    "        else:\n",
    "            current_seq = torch.LongTensor(current_seq)\n",
    "        \n",
    "        # initialize the hidden state\n",
    "        hidden = rnn.init_hidden(current_seq.size(0))\n",
    "        \n",
    "        # get the output of the rnn\n",
    "        output, _ = rnn(current_seq, hidden)\n",
    "        \n",
    "        # get the next word probabilities\n",
    "        p = F.softmax(output, dim=1).data\n",
    "        if(train_on_gpu):\n",
    "            p = p.cpu() # move to cpu\n",
    "         \n",
    "        # use top_k sampling to get the index of the next word\n",
    "        top_k = 5\n",
    "        p, top_i = p.topk(top_k)\n",
    "        top_i = top_i.numpy().squeeze()\n",
    "        \n",
    "        # select the likely next word index with some element of randomness\n",
    "        p = p.numpy().squeeze()\n",
    "        word_i = np.random.choice(top_i, p=p/p.sum())\n",
    "        \n",
    "        # retrieve that word from the dictionary\n",
    "        word = int_to_vocab[word_i]\n",
    "        predicted.append(word)     \n",
    "        \n",
    "        # the generated word becomes the next \"current sequence\" and the cycle can continue\n",
    "        current_seq = np.roll(current_seq, -1, 1)\n",
    "        current_seq[-1][-1] = word_i\n",
    "    \n",
    "    gen_sentences = ' '.join(predicted)\n",
    "    \n",
    "    # Replace punctuation tokens\n",
    "    for key, token in token_dict.items():\n",
    "        ending = ' ' if key in ['\\n', '(', '\"'] else ''\n",
    "        gen_sentences = gen_sentences.replace(' ' + token.lower(), key)\n",
    "    gen_sentences = gen_sentences.replace('\\n ', '\\n')\n",
    "    gen_sentences = gen_sentences.replace('( ', '(')\n",
    "    \n",
    "    # return all the sentences\n",
    "    return gen_sentences"
   ]
  },
  {
   "cell_type": "markdown",
   "metadata": {},
   "source": [
    "### Generate a New Script\n",
    "It's time to generate the text. Set `gen_length` to the length of TV script you want to generate and set `prime_word` to one of the following to start the prediction:\n",
    "- \"jerry\"\n",
    "- \"elaine\"\n",
    "- \"george\"\n",
    "- \"kramer\"\n",
    "\n",
    "You can set the prime word to _any word_ in our dictionary, but it's best to start with a name for generating a TV script. (You can also start with any other names you find in the original text file!)"
   ]
  },
  {
   "cell_type": "code",
   "execution_count": null,
   "metadata": {
    "collapsed": true
   },
   "outputs": [],
   "source": [
    "# run the cell multiple times to get different results!\n",
    "gen_length = 400 # modify the length to your preference\n",
    "prime_word = 'jerry' # name for starting the script\n",
    "\n",
    "\"\"\"\n",
    "DON'T MODIFY ANYTHING IN THIS CELL THAT IS BELOW THIS LINE\n",
    "\"\"\"\n",
    "pad_word = helper.SPECIAL_WORDS['PADDING']\n",
    "generated_script = generate(trained_rnn, vocab_to_int[prime_word + ':'], int_to_vocab, token_dict, vocab_to_int[pad_word], gen_length)\n",
    "print(generated_script)"
   ]
  },
  {
   "cell_type": "markdown",
   "metadata": {},
   "source": [
    "#### Save your favorite scripts\n",
    "\n",
    "Once you have a script that you like (or find interesting), save it to a text file!"
   ]
  },
  {
   "cell_type": "code",
   "execution_count": null,
   "metadata": {
    "collapsed": true
   },
   "outputs": [],
   "source": [
    "# save script to a text file\n",
    "f =  open(\"generated_script_1.txt\",\"w\")\n",
    "f.write(generated_script)\n",
    "f.close()"
   ]
  },
  {
   "cell_type": "markdown",
   "metadata": {},
   "source": [
    "# The TV Script is Not Perfect\n",
    "It's ok if the TV script doesn't make perfect sense. It should look like alternating lines of dialogue, here is one such example of a few generated lines.\n",
    "\n",
    "### Example generated script\n",
    "\n",
    ">jerry: what about me?\n",
    ">\n",
    ">jerry: i don't have to wait.\n",
    ">\n",
    ">kramer:(to the sales table)\n",
    ">\n",
    ">elaine:(to jerry) hey, look at this, i'm a good doctor.\n",
    ">\n",
    ">newman:(to elaine) you think i have no idea of this...\n",
    ">\n",
    ">elaine: oh, you better take the phone, and he was a little nervous.\n",
    ">\n",
    ">kramer:(to the phone) hey, hey, jerry, i don't want to be a little bit.(to kramer and jerry) you can't.\n",
    ">\n",
    ">jerry: oh, yeah. i don't even know, i know.\n",
    ">\n",
    ">jerry:(to the phone) oh, i know.\n",
    ">\n",
    ">kramer:(laughing) you know...(to jerry) you don't know.\n",
    "\n",
    "You can see that there are multiple characters that say (somewhat) complete sentences, but it doesn't have to be perfect! It takes quite a while to get good results, and often, you'll have to use a smaller vocabulary (and discard uncommon words), or get more data.  The Seinfeld dataset is about 3.4 MB, which is big enough for our purposes; for script generation you'll want more than 1 MB of text, generally. \n",
    "\n",
    "# Submitting This Project\n",
    "When submitting this project, make sure to run all the cells before saving the notebook. Save the notebook file as \"dlnd_tv_script_generation.ipynb\" and save another copy as an HTML file by clicking \"File\" -> \"Download as..\"->\"html\". Include the \"helper.py\" and \"problem_unittests.py\" files in your submission. Once you download these files, compress them into one zip file for submission."
   ]
  },
  {
   "cell_type": "code",
   "execution_count": null,
   "metadata": {},
   "outputs": [],
   "source": []
  }
 ],
 "metadata": {
  "kernelspec": {
   "display_name": "Python 3",
   "language": "python",
   "name": "python3"
  },
  "language_info": {
   "codemirror_mode": {
    "name": "ipython",
    "version": 3
   },
   "file_extension": ".py",
   "mimetype": "text/x-python",
   "name": "python",
   "nbconvert_exporter": "python",
   "pygments_lexer": "ipython3",
   "version": "3.6.3"
  },
  "widgets": {
   "state": {},
   "version": "1.1.2"
  }
 },
 "nbformat": 4,
 "nbformat_minor": 1
}
